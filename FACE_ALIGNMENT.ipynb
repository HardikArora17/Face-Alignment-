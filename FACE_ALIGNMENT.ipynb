{
 "cells": [
  {
   "cell_type": "code",
   "execution_count": 1,
   "metadata": {},
   "outputs": [
    {
     "ename": "ModuleNotFoundError",
     "evalue": "No module named 'dlib'",
     "output_type": "error",
     "traceback": [
      "\u001b[1;31m---------------------------------------------------------------------------\u001b[0m",
      "\u001b[1;31mModuleNotFoundError\u001b[0m                       Traceback (most recent call last)",
      "\u001b[1;32m<ipython-input-1-928a8b9c22b0>\u001b[0m in \u001b[0;36m<module>\u001b[1;34m\u001b[0m\n\u001b[0;32m      1\u001b[0m \u001b[1;32mimport\u001b[0m \u001b[0mcv2\u001b[0m\u001b[1;33m\u001b[0m\u001b[1;33m\u001b[0m\u001b[0m\n\u001b[1;32m----> 2\u001b[1;33m \u001b[1;32mimport\u001b[0m \u001b[0mdlib\u001b[0m\u001b[1;33m\u001b[0m\u001b[1;33m\u001b[0m\u001b[0m\n\u001b[0m\u001b[0;32m      3\u001b[0m \u001b[1;32mimport\u001b[0m \u001b[0mmatplotlib\u001b[0m\u001b[1;33m.\u001b[0m\u001b[0mpyplot\u001b[0m \u001b[1;32mas\u001b[0m \u001b[0mplt\u001b[0m\u001b[1;33m\u001b[0m\u001b[1;33m\u001b[0m\u001b[0m\n\u001b[0;32m      4\u001b[0m \u001b[1;32mimport\u001b[0m \u001b[0mpandas\u001b[0m \u001b[1;32mas\u001b[0m \u001b[0mpd\u001b[0m\u001b[1;33m\u001b[0m\u001b[1;33m\u001b[0m\u001b[0m\n\u001b[0;32m      5\u001b[0m \u001b[1;32mimport\u001b[0m \u001b[0mnumpy\u001b[0m \u001b[1;32mas\u001b[0m \u001b[0mnp\u001b[0m\u001b[1;33m\u001b[0m\u001b[1;33m\u001b[0m\u001b[0m\n",
      "\u001b[1;31mModuleNotFoundError\u001b[0m: No module named 'dlib'"
     ]
    }
   ],
   "source": [
    "import cv2\n",
    "import dlib\n",
    "import matplotlib.pyplot as plt\n",
    "import pandas as pd\n",
    "import numpy as np\n",
    "import os\n",
    "import tensorflow\n",
    "\n"
   ]
  },
  {
   "cell_type": "code",
   "execution_count": 2,
   "metadata": {},
   "outputs": [
    {
     "name": "stdout",
     "output_type": "stream",
     "text": [
      "WARNING:tensorflow:From f:\\Anaconda3\\lib\\site-packages\\keras\\backend\\tensorflow_backend.py:4070: The name tf.nn.max_pool is deprecated. Please use tf.nn.max_pool2d instead.\n",
      "\n"
     ]
    }
   ],
   "source": [
    "cascade = cv2.CascadeClassifier(r'C:\\Users\\Hardik Arora\\Desktop\\personal projects\\haar_cascades files\\haarcascade_frontalface_default.xml')\n",
    "\n",
    "predictor = dlib.shape_predictor(r'C:\\Users\\Hardik Arora\\Desktop\\personal projects\\model_h5_and_pickle_files\\shape_predictor_68_face_landmarks.dat')\n",
    "\n",
    "FACIAL_LANDMARKS_ID={\"mouth\":(48,68),\"right_eyebrow\":(17,22),\"left_eyebrow\":(22,27),\"right_eye\":(36,42),\"left_eye\":(42,48),\"nose\":(27,35),\"jaw\":(0,17)}\n",
    "\n"
   ]
  },
  {
   "cell_type": "code",
   "execution_count": 3,
   "metadata": {},
   "outputs": [],
   "source": [
    "def shape_to_np(shape, dtype=\"int\"):\n",
    "    coords = np.zeros((68, 2), dtype=\"int\")\n",
    "    for i in range(0, 68):\n",
    "        coords[i] = (shape.part(i).x, shape.part(i).y)\n",
    "    return coords"
   ]
  },
  {
   "cell_type": "code",
   "execution_count": 45,
   "metadata": {},
   "outputs": [],
   "source": [
    "class FaceAligner:\n",
    "    def __init__(self,predictor,desired_left_eye=(0.35,0.35),samplewidth=300,sampleheight=None):\n",
    "        self.predictor=predictor\n",
    "        self.desired_left_eye=desired_left_eye\n",
    "        self.samplewidth=samplewidth\n",
    "        self.sampleheight=sampleheight\n",
    "        if(sampleheight==None):\n",
    "            self.sampleheight=samplewidth\n",
    "    def align_face(self,image,gray,rect):\n",
    "        shape=predictor(gray,rect)\n",
    "        shape=shape_to_np(shape)\n",
    "        lstart,lend=FACIAL_LANDMARKS_ID[\"left_eye\"]\n",
    "        rstart,rend=FACIAL_LANDMARKS_ID[\"right_eye\"]\n",
    "        left_eye_pts=shape[lstart:lend]\n",
    "        right_eye_pts=shape[rstart:rend]\n",
    "            \n",
    "        left_e_center=left_eye_pts.mean(axis=0).astype(\"int\")\n",
    "        right_e_center=right_eye_pts.mean(axis=0).astype(\"int\")\n",
    "        dY=right_e_center[1]-left_e_center[1]\n",
    "        dX=right_e_center[0]-left_e_center[0]\n",
    "        angle=np.degrees(np.arctan2(dY,dX))-180\n",
    "\n",
    "        desired_right_eyex=1-self.desired_left_eye[0]\n",
    "        dist=np.sqrt(dX**2+dY**2)\n",
    "        desired_dist=desired_right_eyex-self.desired_left_eye[0]\n",
    "        desired_dist*=self.samplewidth\n",
    "        scale=desired_dist/dist\n",
    "\n",
    "        eye_center=((left_e_center[0]+right_e_center[0])//2,(left_e_center[1]+right_e_center[1])//2)\n",
    "        M=cv2.getRotationMatrix2D(eye_center,angle,scale)\n",
    "        tX = self.samplewidth * 0.5\n",
    "        tY = self.sampleheight * self.desired_left_eye[1]\n",
    "        M[0, 2] += (tX - eye_center[0])\n",
    "        M[1, 2] += (tY - eye_center[1])\n",
    "        (w,h)=(self.samplewidth,self.sampleheight)\n",
    "        output=cv2.warpAffine(image,M,(w,h),flags=cv2.INTER_CUBIC)\n",
    "\n",
    "        return output"
   ]
  },
  {
   "cell_type": "code",
   "execution_count": 46,
   "metadata": {},
   "outputs": [],
   "source": [
    "fa = FaceAligner(predictor, samplewidth=256)\n"
   ]
  },
  {
   "cell_type": "code",
   "execution_count": 55,
   "metadata": {},
   "outputs": [
    {
     "name": "stdout",
     "output_type": "stream",
     "text": [
      "(2, 32, 24, 200, 360, 3)\n"
     ]
    }
   ],
   "source": [
    "def align_face_new(frame):\n",
    "    rects=[]\n",
    "    gray=cv2.cvtColor(frame,cv2.COLOR_BGR2GRAY)\n",
    "    faces=cascade.detectMultiScale(gray,scaleFactor=1.05,minSize=(350,350))\n",
    "    for f in faces:\n",
    "        (x,y,w,h)=f\n",
    "        rect=(x,y,w,h)\n",
    "        rects.append(rect)\n",
    "    \n",
    "    rect=list(enumerate(rects))\n",
    "    for i,r in (rect):\n",
    "        (x,y,w,h)=r\n",
    "        rectangle=dlib.rectangle(np.uint32(x).item(),np.uint32(y).item(),np.uint32(x).item()+np.uint32(w).item(),np.uint32(x).item()+np.uint32(h).item())\n",
    "        output=fa.align_face(frame,gray,rectangle)\n",
    "        image=frame[y:y+h,x:x+w]\n",
    "        w,h=image.shape[0:2]\n",
    "        output=cv2.resize(output,(w,h))\n",
    "        frame[y:y+h,x:x+w]=output\n",
    "    return frame"
   ]
  },
  {
   "cell_type": "code",
   "execution_count": null,
   "metadata": {},
   "outputs": [],
   "source": [
    "img=cv2.imread(\"sample_image1.jpg\")\n",
    "out=align_face_new(img)\n",
    "cv2.imshow(\"output_aligned\",out)\n",
    "cv2.waitKey()\n",
    "cv2.destroyAllWindows()"
   ]
  }
 ],
 "metadata": {
  "kernelspec": {
   "display_name": "Python 3",
   "language": "python",
   "name": "python3"
  },
  "language_info": {
   "codemirror_mode": {
    "name": "ipython",
    "version": 3
   },
   "file_extension": ".py",
   "mimetype": "text/x-python",
   "name": "python",
   "nbconvert_exporter": "python",
   "pygments_lexer": "ipython3",
   "version": "3.7.3"
  }
 },
 "nbformat": 4,
 "nbformat_minor": 2
}
